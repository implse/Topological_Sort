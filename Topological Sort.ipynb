{
 "cells": [
  {
   "cell_type": "markdown",
   "metadata": {},
   "source": [
    "# Topological Sort"
   ]
  },
  {
   "cell_type": "markdown",
   "metadata": {},
   "source": [
    "A topological ordering is an ordering of the nodes in a directed acyclic graph (DAG) where\n",
    "for each directed edge from `node A` to `node B`, `node A` appears before `node B` in the orderering."
   ]
  },
  {
   "cell_type": "markdown",
   "metadata": {},
   "source": [
    "nodes in a graph are called vertices."
   ]
  },
  {
   "cell_type": "markdown",
   "metadata": {},
   "source": [
    "![title](images/Topological_Sort.png)"
   ]
  },
  {
   "cell_type": "markdown",
   "metadata": {},
   "source": [
    "Topological sort algorithm can find a topological ordering in `O(V + E)` time complexity."
   ]
  },
  {
   "cell_type": "markdown",
   "metadata": {},
   "source": [
    "Not every graph can have a topological ordering. A graph which contains a cycle cannot have a valid ordering."
   ]
  },
  {
   "cell_type": "markdown",
   "metadata": {},
   "source": [
    "## Topological Sort with Depth First Search"
   ]
  },
  {
   "cell_type": "code",
   "execution_count": 10,
   "metadata": {},
   "outputs": [],
   "source": [
    "# Depth First Search\n",
    "def dfs(v, visited, stack, edges):\n",
    "    idx = vertices.index(v)\n",
    "    visited[idx] = True\n",
    "    neighbours = edges[v]\n",
    "    for neighbour in neighbours:\n",
    "        idx = vertices.index(neighbour)\n",
    "        if not visited[idx]:\n",
    "            dfs(neighbour, visited, stack, edges)\n",
    "    stack.append(v)"
   ]
  },
  {
   "cell_type": "code",
   "execution_count": 11,
   "metadata": {},
   "outputs": [],
   "source": [
    "# Topological Sort\n",
    "def topological_sort(edges, vertices):\n",
    "    visited = [False] * len(vertices)\n",
    "    stack = []\n",
    "    for v in vertices:\n",
    "        idx = vertices.index(v)\n",
    "        if not visited[idx]:\n",
    "            dfs(v, visited, stack, edges)\n",
    "    return stack[::-1]"
   ]
  },
  {
   "cell_type": "markdown",
   "metadata": {},
   "source": [
    "### Graph Representation"
   ]
  },
  {
   "cell_type": "code",
   "execution_count": 12,
   "metadata": {},
   "outputs": [],
   "source": [
    "# List of vertices\n",
    "vertices = [\"A\", \"B\", \"C\", \"D\", \"E\", \"F\", \"G\", \"H\", \"I\", \"J\", \"K\", \"L\", \"M\"]"
   ]
  },
  {
   "cell_type": "code",
   "execution_count": 13,
   "metadata": {},
   "outputs": [],
   "source": [
    "# Edge list dictionnary\n",
    "edges = {\n",
    "    \"A\": [\"D\"],\n",
    "    \"B\": [\"D\"],\n",
    "    \"C\": [\"A\", \"B\"],\n",
    "    \"D\": [\"H\", \"G\"],\n",
    "    \"E\": [\"F\", \"D\"],\n",
    "    \"F\": [\"K\"],\n",
    "    \"G\": [\"I\"],\n",
    "    \"H\": [\"I\"],\n",
    "    \"I\": [\"L\"],\n",
    "    \"J\": [\"L\", \"M\"],\n",
    "    \"K\": [\"J\"],\n",
    "    \"L\": [],\n",
    "    \"M\": []\n",
    "}"
   ]
  },
  {
   "cell_type": "code",
   "execution_count": 15,
   "metadata": {},
   "outputs": [
    {
     "name": "stdout",
     "output_type": "stream",
     "text": [
      "['E', 'F', 'K', 'J', 'M', 'C', 'B', 'A', 'D', 'G', 'H', 'I', 'L']\n"
     ]
    }
   ],
   "source": [
    "print(topological_sort(edges, vertices))"
   ]
  },
  {
   "cell_type": "markdown",
   "metadata": {},
   "source": [
    "![title](images/Topological_Sort_Result.png)"
   ]
  },
  {
   "cell_type": "code",
   "execution_count": null,
   "metadata": {},
   "outputs": [],
   "source": []
  }
 ],
 "metadata": {
  "kernelspec": {
   "display_name": "Python 3",
   "language": "python",
   "name": "python3"
  },
  "language_info": {
   "codemirror_mode": {
    "name": "ipython",
    "version": 3
   },
   "file_extension": ".py",
   "mimetype": "text/x-python",
   "name": "python",
   "nbconvert_exporter": "python",
   "pygments_lexer": "ipython3",
   "version": "3.7.3"
  }
 },
 "nbformat": 4,
 "nbformat_minor": 2
}
