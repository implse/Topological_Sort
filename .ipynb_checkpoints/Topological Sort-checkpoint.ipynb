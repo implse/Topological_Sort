{
 "cells": [
  {
   "cell_type": "markdown",
   "metadata": {},
   "source": [
    "# Topological Sort"
   ]
  },
  {
   "cell_type": "markdown",
   "metadata": {},
   "source": [
    "A topological ordering is an ordering of the nodes in a directed acyclic graph (DAG) where\n",
    "for each directed edge from `node A` to `node B`, `node A` appears before `node B` in the orderering."
   ]
  },
  {
   "cell_type": "markdown",
   "metadata": {},
   "source": [
    "nodes in a graph are called vertices."
   ]
  },
  {
   "cell_type": "markdown",
   "metadata": {},
   "source": [
    "![title](images/Topological_Sort.png)"
   ]
  },
  {
   "cell_type": "markdown",
   "metadata": {},
   "source": [
    "Topological sort algorithm can find a topological ordering in `O(V + E)` time complexity."
   ]
  },
  {
   "cell_type": "markdown",
   "metadata": {},
   "source": [
    "Not every graph can have a topological ordering. A graph which contains a cycle cannot have a valid ordering."
   ]
  },
  {
   "cell_type": "markdown",
   "metadata": {},
   "source": [
    "## Topological Sort with Depth First Search"
   ]
  },
  {
   "cell_type": "code",
   "execution_count": 1,
   "metadata": {
    "collapsed": true
   },
   "outputs": [],
   "source": [
    "# Topological Sort\n",
    "def topological_sort(edges, vertices):\n",
    "    visited = set()\n",
    "    stack = []\n",
    "    for v in vertices:\n",
    "        if v not in visited:\n",
    "            dfs(v, visited, stack, edges)\n",
    "    return stack[::-1]"
   ]
  },
  {
   "cell_type": "code",
   "execution_count": 2,
   "metadata": {
    "collapsed": true
   },
   "outputs": [],
   "source": [
    "# Depth First Search\n",
    "def dfs(v, visited, stack, edges):\n",
    "    visited.add(v)\n",
    "    neighbours = edges[v]\n",
    "    for neighbour in neighbours:\n",
    "        if neighbour not in visited:\n",
    "            dfs(neighbour, visited, stack, edges)\n",
    "    stack.append(v)"
   ]
  },
  {
   "cell_type": "markdown",
   "metadata": {},
   "source": [
    "### Graph Representation"
   ]
  },
  {
   "cell_type": "code",
   "execution_count": 3,
   "metadata": {
    "collapsed": true
   },
   "outputs": [],
   "source": [
    "# List of vertices\n",
    "vertices = [\"A\", \"B\", \"C\", \"D\", \"E\", \"F\", \"G\", \"H\", \"I\", \"J\", \"K\", \"L\", \"M\"]"
   ]
  },
  {
   "cell_type": "code",
   "execution_count": 4,
   "metadata": {
    "collapsed": true
   },
   "outputs": [],
   "source": [
    "# Edge list dictionnary\n",
    "edges = {\n",
    "    \"A\": [\"D\"],\n",
    "    \"B\": [\"D\"],\n",
    "    \"C\": [\"A\", \"B\"],\n",
    "    \"D\": [\"G\", \"H\"],\n",
    "    \"E\": [\"D\", \"F\"],\n",
    "    \"F\": [\"J\", \"K\"],\n",
    "    \"G\": [\"I\"],\n",
    "    \"H\": [\"I\", \"J\"],\n",
    "    \"I\": [\"L\"],\n",
    "    \"J\": [\"L\", \"M\"],\n",
    "    \"K\": [\"J\"],\n",
    "    \"L\": [],\n",
    "    \"M\": []\n",
    "}"
   ]
  },
  {
   "cell_type": "code",
   "execution_count": 5,
   "metadata": {
    "collapsed": false
   },
   "outputs": [
    {
     "name": "stdout",
     "output_type": "stream",
     "text": [
      "['E', 'F', 'K', 'C', 'B', 'A', 'D', 'H', 'J', 'M', 'G', 'I', 'L']\n"
     ]
    }
   ],
   "source": [
    "print(topological_sort(edges, vertices))"
   ]
  },
  {
   "cell_type": "markdown",
   "metadata": {},
   "source": [
    "![title](images/Topological_Sort_Result.png)"
   ]
  },
  {
   "cell_type": "markdown",
   "metadata": {},
   "source": [
    "## Graph Example"
   ]
  },
  {
   "cell_type": "markdown",
   "metadata": {},
   "source": [
    "![title](images/Topological_Sort_2.png)"
   ]
  },
  {
   "cell_type": "code",
   "execution_count": 6,
   "metadata": {
    "collapsed": true
   },
   "outputs": [],
   "source": [
    "# List of vertices\n",
    "vertices = [0, 1, 2, 3, 4, 5, 6, 7]"
   ]
  },
  {
   "cell_type": "code",
   "execution_count": 7,
   "metadata": {
    "collapsed": true
   },
   "outputs": [],
   "source": [
    "# Edge list dictionnary\n",
    "edges = {\n",
    "    0: [1, 3, 4],\n",
    "    1: [5],\n",
    "    2: [4],\n",
    "    3: [5],\n",
    "    4: [],\n",
    "    5: [6, 7],\n",
    "    6: [7],\n",
    "    7: []   \n",
    "}"
   ]
  },
  {
   "cell_type": "code",
   "execution_count": 8,
   "metadata": {
    "collapsed": false
   },
   "outputs": [
    {
     "name": "stdout",
     "output_type": "stream",
     "text": [
      "[2, 0, 4, 3, 1, 5, 6, 7]\n"
     ]
    }
   ],
   "source": [
    "print(topological_sort(edges, vertices))"
   ]
  },
  {
   "cell_type": "markdown",
   "metadata": {},
   "source": [
    "![title](images/Topological_Sort_2_Result.png)"
   ]
  }
 ],
 "metadata": {
  "kernelspec": {
   "display_name": "Python 3",
   "language": "python",
   "name": "python3"
  },
  "language_info": {
   "codemirror_mode": {
    "name": "ipython",
    "version": 3
   },
   "file_extension": ".py",
   "mimetype": "text/x-python",
   "name": "python",
   "nbconvert_exporter": "python",
   "pygments_lexer": "ipython3",
   "version": "3.6.0"
  }
 },
 "nbformat": 4,
 "nbformat_minor": 2
}
